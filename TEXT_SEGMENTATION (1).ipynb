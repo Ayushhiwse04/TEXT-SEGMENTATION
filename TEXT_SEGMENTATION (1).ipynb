{
  "cells": [
    {
      "cell_type": "code",
      "execution_count": null,
      "metadata": {
        "colab": {
          "background_save": true
        },
        "id": "5ionln_ZbjJ2"
      },
      "outputs": [],
      "source": [
        "import spacy"
      ]
    },
    {
      "cell_type": "code",
      "execution_count": null,
      "metadata": {
        "colab": {
          "background_save": true
        },
        "id": "DRcCx7qNbsvZ"
      },
      "outputs": [],
      "source": [
        "nlp = spacy.load(\"en_core_web_sm\")"
      ]
    },
    {
      "cell_type": "markdown",
      "metadata": {
        "id": "0ucSt0mnb8X0"
      },
      "source": [
        "Tokenization"
      ]
    },
    {
      "cell_type": "code",
      "execution_count": null,
      "metadata": {
        "colab": {
          "background_save": true,
          "base_uri": "https://localhost:8080/"
        },
        "id": "oeKwqaESbyOR",
        "outputId": "6dd94276-8b20-4aed-8a63-cdc801fb7873"
      },
      "outputs": [
        {
          "name": "stdout",
          "output_type": "stream",
          "text": [
            "After\n",
            "flying\n",
            "a\n",
            "long\n",
            "distance\n",
            ",\n",
            "a\n",
            "thirsty\n",
            "crow\n",
            "was\n",
            "wandering\n",
            "the\n",
            "forest\n",
            "in\n",
            "search\n",
            "of\n",
            "water\n",
            ".\n",
            "Finally\n",
            ",\n",
            "he\n",
            "saw\n",
            "a\n",
            "pot\n",
            "half\n",
            "-\n",
            "filled\n",
            "with\n",
            "water\n",
            ".\n",
            "He\n",
            "tried\n",
            "to\n",
            "drink\n",
            "from\n",
            "it\n",
            "but\n",
            "his\n",
            "beak\n",
            "was\n",
            "n’t\n",
            "long\n",
            "enough\n",
            "to\n",
            "reach\n",
            "the\n",
            "water\n",
            "inside\n",
            ".\n",
            "He\n",
            "then\n",
            "saw\n",
            "pebbles\n",
            "on\n",
            "the\n",
            "ground\n",
            "and\n",
            "one\n",
            "by\n",
            "one\n",
            ",\n",
            "he\n",
            "put\n",
            "them\n",
            "in\n",
            "the\n",
            "pot\n",
            "until\n",
            "the\n",
            "water\n",
            "rose\n",
            "to\n",
            "the\n",
            "brim\n",
            ".\n",
            "The\n",
            "crow\n",
            "then\n",
            "hastily\n",
            "drank\n",
            "from\n",
            "it\n",
            "and\n",
            "quenched\n",
            "his\n",
            "thirst\n",
            ".\n"
          ]
        }
      ],
      "source": [
        "text = \"After flying a long distance, a thirsty crow was wandering the forest in search of water. Finally, he saw a pot half-filled with water. He tried to drink from it but his beak wasn’t long enough to reach the water inside. He then saw pebbles on the ground and one by one, he put them in the pot until the water rose to the brim. The crow then hastily drank from it and quenched his thirst.\"\n",
        "doc = nlp(text)\n",
        "\n",
        "for token in doc:\n",
        "    print(token.text)"
      ]
    },
    {
      "cell_type": "markdown",
      "metadata": {
        "id": "3TSlQx7FceNs"
      },
      "source": [
        "Lowercasing"
      ]
    },
    {
      "cell_type": "code",
      "execution_count": null,
      "metadata": {
        "colab": {
          "background_save": true,
          "base_uri": "https://localhost:8080/"
        },
        "id": "QwsrvZAhb6jR",
        "outputId": "58ff2265-c385-464f-a782-3af1c048375d"
      },
      "outputs": [
        {
          "name": "stdout",
          "output_type": "stream",
          "text": [
            "Lowercasing:\n",
            "['after', 'flying', 'a', 'long', 'distance', 'a', 'thirsty', 'crow', 'was', 'wandering', 'the', 'forest', 'in', 'search', 'of', 'water', 'finally', 'he', 'saw', 'a', 'pot', 'half', 'filled', 'with', 'water', 'he', 'tried', 'to', 'drink', 'from', 'it', 'but', 'his', 'beak', 'was', 'n’t', 'long', 'enough', 'to', 'reach', 'the', 'water', 'inside', 'he', 'then', 'saw', 'pebbles', 'on', 'the', 'ground', 'and', 'one', 'by', 'one', 'he', 'put', 'them', 'in', 'the', 'pot', 'until', 'the', 'water', 'rose', 'to', 'the', 'brim', 'the', 'crow', 'then', 'hastily', 'drank', 'from', 'it', 'and', 'quenched', 'his', 'thirst']\n"
          ]
        }
      ],
      "source": [
        "from spacy.lang.en.stop_words import STOP_WORDS\n",
        "from string import punctuation\n",
        "text = \"After flying a long distance, a thirsty crow was wandering the forest in search of water. Finally, he saw a pot half-filled with water. He tried to drink from it but his beak wasn’t long enough to reach the water inside. He then saw pebbles on the ground and one by one, he put them in the pot until the water rose to the brim. The crow then hastily drank from it and quenched his thirst.\"\n",
        "doc = nlp(text)\n",
        "tokens = [token.text.lower() for token in doc if token.text not in punctuation]\n",
        "print(\"Lowercasing:\")\n",
        "print(tokens)\n"
      ]
    },
    {
      "cell_type": "markdown",
      "metadata": {
        "id": "rpheCCXBcgl4"
      },
      "source": [
        "Stopword removal"
      ]
    },
    {
      "cell_type": "code",
      "execution_count": null,
      "metadata": {
        "colab": {
          "background_save": true,
          "base_uri": "https://localhost:8080/"
        },
        "id": "JLc3Y6v0crcV",
        "outputId": "083a97ac-2925-4969-f575-56bf18dc0a15"
      },
      "outputs": [
        {
          "name": "stdout",
          "output_type": "stream",
          "text": [
            "['flying', 'long', 'distance', 'thirsty', 'crow', 'wandering', 'forest', 'search', 'water', 'finally', 'saw', 'pot', 'half', 'filled', 'water', 'tried', 'drink', 'beak', 'long', 'reach', 'water', 'inside', 'saw', 'pebbles', 'ground', 'pot', 'water', 'rose', 'brim', 'crow', 'hastily', 'drank', 'quenched', 'thirst']\n"
          ]
        }
      ],
      "source": [
        "filtered_tokens = [token for token in tokens if token not in STOP_WORDS]\n",
        "print(filtered_tokens)"
      ]
    },
    {
      "cell_type": "markdown",
      "metadata": {
        "id": "TnvI-Fz0dWf-"
      },
      "source": [
        "lemmetization"
      ]
    },
    {
      "cell_type": "code",
      "execution_count": null,
      "metadata": {
        "colab": {
          "background_save": true,
          "base_uri": "https://localhost:8080/"
        },
        "id": "85nXT8EodZTf",
        "outputId": "f337f47b-313e-457d-84f8-4d40b7f34ccf"
      },
      "outputs": [
        {
          "name": "stdout",
          "output_type": "stream",
          "text": [
            "['fly', 'long', 'distance', 'thirsty', 'crow', 'wander', 'forest', 'search', 'water', 'finally', 'see', 'pot', 'half', 'fill', 'water', 'try', 'drink', 'beak', 'long', 'reach', 'water', 'inside', 'see', 'pebble', 'ground', 'pot', 'water', 'rise', 'brim', 'crow', 'hastily', 'drank', 'quench', 'thirst']\n"
          ]
        }
      ],
      "source": [
        "lemmatized_tokens = [token.lemma_ for token in nlp(\" \".join(filtered_tokens))]\n",
        "print(lemmatized_tokens)"
      ]
    },
    {
      "cell_type": "markdown",
      "metadata": {
        "id": "rlq_pBkTdi4y"
      },
      "source": [
        "Sentence segmentation"
      ]
    },
    {
      "cell_type": "code",
      "execution_count": null,
      "metadata": {
        "colab": {
          "background_save": true,
          "base_uri": "https://localhost:8080/"
        },
        "id": "YOF6xdD3dq99",
        "outputId": "4940ddfa-613c-4bb2-e0f8-c6015d58f4b6"
      },
      "outputs": [
        {
          "name": "stdout",
          "output_type": "stream",
          "text": [
            "\n",
            "Sentence Segmentation:\n",
            "['After flying a long distance, a thirsty crow was wandering the forest in search of water.', 'Finally, he saw a pot half-filled with water.', 'He tried to drink from it but his beak wasn’t long enough to reach the water inside.', 'He then saw pebbles on the ground and one by one, he put them in the pot until the water rose to the brim.', 'The crow then hastily drank from it and quenched his thirst.']\n"
          ]
        }
      ],
      "source": [
        "sentences = [sent.text for sent in doc.sents]\n",
        "print(\"\\nSentence Segmentation:\")\n",
        "print(sentences)"
      ]
    },
    {
      "cell_type": "markdown",
      "metadata": {
        "id": "wdY88hSldy6V"
      },
      "source": [
        "Paragragh Segmentation"
      ]
    },
    {
      "cell_type": "code",
      "execution_count": null,
      "metadata": {
        "colab": {
          "background_save": true,
          "base_uri": "https://localhost:8080/"
        },
        "id": "Qt7lAdIud1fu",
        "outputId": "a05441d5-340f-4ee5-d22d-fe1274cc410f"
      },
      "outputs": [
        {
          "name": "stdout",
          "output_type": "stream",
          "text": [
            "\n",
            "Paragraph Segmentation:\n",
            "Paragraph 1: After flying a long distance, a thirsty crow was wandering the forest in search of water. Finally, he saw a pot half-filled with water. He tried to drink from it but his beak wasn’t long enough to reach the water inside. He then saw pebbles on the ground and one by one, he put them in the pot until the water rose to the brim. The crow then hastily drank from it and quenched his thirst.\n"
          ]
        }
      ],
      "source": [
        "paragraphs = [p.strip() for p in text.split('\\n') if p.strip()]\n",
        "print(\"\\nParagraph Segmentation:\")\n",
        "for i, paragraph in enumerate(paragraphs, 1):\n",
        "    print(f\"Paragraph {i}: {paragraph}\")"
      ]
    },
    {
      "cell_type": "markdown",
      "metadata": {
        "id": "C3Afj--ld_cb"
      },
      "source": [
        "KeyWord Extraction"
      ]
    },
    {
      "cell_type": "code",
      "execution_count": null,
      "metadata": {
        "colab": {
          "background_save": true,
          "base_uri": "https://localhost:8080/"
        },
        "id": "3BKxywdEeCCY",
        "outputId": "ee558042-a469-4cb0-ece1-ebccb7111ed7"
      },
      "outputs": [
        {
          "name": "stdout",
          "output_type": "stream",
          "text": [
            "\n",
            "Keyword Extraction:\n",
            "['the', 'water', 'he', 'a', 'to', 'long', 'crow', 'was', 'in', 'saw']\n"
          ]
        }
      ],
      "source": [
        "from collections import Counter\n",
        "\n",
        "word_freq = Counter(tokens)\n",
        "keywords = [word for word, freq in word_freq.most_common(10)]\n",
        "print(\"\\nKeyword Extraction:\")\n",
        "print(keywords)"
      ]
    },
    {
      "cell_type": "markdown",
      "metadata": {
        "id": "DNicrNUAeL2D"
      },
      "source": [
        "Named Entity Recognition (NER)"
      ]
    },
    {
      "cell_type": "code",
      "execution_count": null,
      "metadata": {
        "colab": {
          "background_save": true,
          "base_uri": "https://localhost:8080/"
        },
        "id": "EhkjFIUjeSoE",
        "outputId": "57ede640-49e5-45a9-8220-3fd5a4f75bdb"
      },
      "outputs": [
        {
          "name": "stdout",
          "output_type": "stream",
          "text": [
            "\n",
            "Named Entity Recognition (NER):\n",
            "Entity: Apple Inc., Label: ORG\n",
            "Entity: Cupertino, Label: GPE\n",
            "Entity: California, Label: GPE\n",
            "Entity: Steve Jobs, Label: PERSON\n"
          ]
        }
      ],
      "source": [
        "text = \"Apple Inc. is located in Cupertino, California, and was founded by Steve Jobs.\"\n",
        "doc = nlp(text)\n",
        "named_entities = [(ent.text, ent.label_) for ent in doc.ents]\n",
        "print(\"\\nNamed Entity Recognition (NER):\")\n",
        "for entity, label in named_entities:\n",
        "    print(f\"Entity: {entity}, Label: {label}\")"
      ]
    },
    {
      "cell_type": "markdown",
      "metadata": {
        "id": "CSkPAkubeq2n"
      },
      "source": [
        "Text Clustering"
      ]
    },
    {
      "cell_type": "code",
      "execution_count": null,
      "metadata": {
        "colab": {
          "background_save": true,
          "base_uri": "https://localhost:8080/"
        },
        "id": "nkfSnG73eqgj",
        "outputId": "1cc8ec0d-9f10-4696-b38f-ceda84c7dea9"
      },
      "outputs": [
        {
          "name": "stdout",
          "output_type": "stream",
          "text": [
            "\n",
            "Text Clustering (Example - Cluster Labels):\n",
            "Sentence: After flying a long distance, a thirsty crow was wandering the forest in search of water., Cluster: 1\n",
            "Sentence: Finally, he saw a pot half-filled with water., Cluster: 0\n",
            "Sentence: He tried to drink from it but his beak wasn’t long enough to reach the water inside., Cluster: 1\n",
            "Sentence: He then saw pebbles on the ground and one by one, he put them in the pot until the water rose to the brim., Cluster: 0\n",
            "Sentence: The crow then hastily drank from it and quenched his thirst., Cluster: 1\n"
          ]
        },
        {
          "name": "stderr",
          "output_type": "stream",
          "text": [
            "/usr/local/lib/python3.10/dist-packages/sklearn/cluster/_kmeans.py:870: FutureWarning: The default value of `n_init` will change from 10 to 'auto' in 1.4. Set the value of `n_init` explicitly to suppress the warning\n",
            "  warnings.warn(\n"
          ]
        }
      ],
      "source": [
        "from sklearn.feature_extraction.text import TfidfVectorizer\n",
        "from sklearn.cluster import KMeans\n",
        "\n",
        "tfidf_vectorizer = TfidfVectorizer()\n",
        "tfidf_matrix = tfidf_vectorizer.fit_transform(sentences)\n",
        "\n",
        "kmeans = KMeans(n_clusters=2)\n",
        "kmeans.fit(tfidf_matrix)\n",
        "cluster_labels = kmeans.labels_\n",
        "\n",
        "print(\"\\nText Clustering (Example - Cluster Labels):\")\n",
        "for i, sentence in enumerate(sentences):\n",
        "    print(f\"Sentence: {sentence}, Cluster: {cluster_labels[i]}\")"
      ]
    },
    {
      "cell_type": "markdown",
      "metadata": {
        "id": "a989qUxye7md"
      },
      "source": [
        "Topic modeling"
      ]
    },
    {
      "cell_type": "code",
      "execution_count": null,
      "metadata": {
        "colab": {
          "background_save": true,
          "base_uri": "https://localhost:8080/"
        },
        "id": "2Tkz94-7fEXa",
        "outputId": "3394ec5c-5325-4edd-eb42-bb31a046c163"
      },
      "outputs": [
        {
          "name": "stdout",
          "output_type": "stream",
          "text": [
            "\n",
            "Topic Modeling (Example - Topics):\n",
            "Topic 0: [0.50805338 0.66714065 0.50825561 0.69800205 0.50825561 0.69800205\n",
            " 0.50965452 0.50805338 0.50903429 0.50825561 0.50825561 0.89858176\n",
            " 0.89858176 0.50805338 0.50805338 0.50984671 0.69800205 0.89858176\n",
            " 0.50903429 1.0575401  0.50984671 0.66655264 0.50825561 0.50984671\n",
            " 0.50935658 0.50805338 0.69800205 0.90017093 0.69800205 0.98423232\n",
            " 0.69800205 0.50903429 0.50825561 0.69800205 0.98423232 0.50805338\n",
            " 0.96506398 0.69800205 0.66714065 0.50903429 0.50805338 0.6649251\n",
            " 0.50825561 0.69800205 0.50805338 0.50805338 0.50825561 0.84905118\n",
            " 0.89858176]\n",
            "Topic 1: [0.78571444 0.77857131 0.7562739  0.50571782 0.7562739  0.50571782\n",
            " 1.00870757 0.78571444 0.83969433 0.7562739  0.7562739  0.50738111\n",
            " 0.50738111 0.78571444 0.78571444 0.98492609 0.50571782 0.50738111\n",
            " 0.83969433 0.6643636  0.98492609 0.73481729 0.7562739  0.98492609\n",
            " 0.94107419 0.78571444 0.50571782 0.5072688  0.50571782 0.50765587\n",
            " 0.50571782 0.83969433 0.7562739  0.50571782 0.50765587 0.78571444\n",
            " 1.0050275  0.50571782 0.77857131 0.83969433 0.78571444 0.92627629\n",
            " 0.7562739  0.50571782 0.78571444 0.78571444 0.7562739  0.80896842\n",
            " 0.50738111]\n"
          ]
        }
      ],
      "source": [
        "from sklearn.decomposition import LatentDirichletAllocation\n",
        "\n",
        "lda = LatentDirichletAllocation(n_components=2, random_state=42)\n",
        "lda.fit(tfidf_matrix)\n",
        "topics = lda.components_\n",
        "print(\"\\nTopic Modeling (Example - Topics):\")\n",
        "for i, topic in enumerate(topics):\n",
        "    print(f\"Topic {i}: {topic}\")\n"
      ]
    },
    {
      "cell_type": "markdown",
      "metadata": {
        "id": "ZcqMmb8KhKKT"
      },
      "source": [
        "Evalution"
      ]
    },
    {
      "cell_type": "code",
      "execution_count": null,
      "metadata": {
        "colab": {
          "background_save": true,
          "base_uri": "https://localhost:8080/"
        },
        "id": "MbjgtTPDfP1K",
        "outputId": "3f32eb1d-73f0-436a-bd19-d79f4d7d9dca"
      },
      "outputs": [
        {
          "name": "stderr",
          "output_type": "stream",
          "text": [
            "[nltk_data] Downloading package punkt to /root/nltk_data...\n",
            "[nltk_data]   Unzipping tokenizers/punkt.zip.\n"
          ]
        },
        {
          "data": {
            "text/plain": [
              "True"
            ]
          },
          "execution_count": 13,
          "metadata": {},
          "output_type": "execute_result"
        }
      ],
      "source": [
        "from nltk import word_tokenize\n",
        "from nltk.metrics import precision, recall, f_measure\n",
        "import nltk\n",
        "nltk.download('punkt')"
      ]
    },
    {
      "cell_type": "code",
      "execution_count": null,
      "metadata": {
        "colab": {
          "background_save": true
        },
        "id": "C-na0f7if3Z8"
      },
      "outputs": [],
      "source": [
        "def evaluate_segmentation(reference, segmented):\n",
        "    reference_tokens = word_tokenize(reference)\n",
        "    segmented_tokens = word_tokenize(segmented)\n",
        "\n",
        "    prec = precision(set(reference_tokens), set(segmented_tokens))\n",
        "    rec = recall(set(reference_tokens), set(segmented_tokens))\n",
        "    f1 = f_measure(set(reference_tokens), set(segmented_tokens))\n",
        "\n",
        "    return prec, rec, f1\n"
      ]
    },
    {
      "cell_type": "code",
      "execution_count": null,
      "metadata": {
        "colab": {
          "background_save": true,
          "base_uri": "https://localhost:8080/"
        },
        "id": "np8PjLrDgJ9j",
        "outputId": "6bef4c32-8101-4b97-ac4a-496f09bb4379"
      },
      "outputs": [
        {
          "name": "stdout",
          "output_type": "stream",
          "text": [
            "Precision: 0.93\n",
            "Recall: 0.95\n",
            "F1-Score: 0.94\n"
          ]
        }
      ],
      "source": [
        "reference_text = \"After flying a long distance, a thirsty crow was wandering the forest in search of water. Finally, he saw a pot half-filled with water. He tried to drink from it but his beak wasn’t long enough to reach the water inside. He then saw pebbles on the ground and one by one, he put them in the pot until the water rose to the brim. The crow then hastily drank from it and quenched his thirst.\"\n",
        "\n",
        "segmented_text = \"After flying a long distance, a thirsty crow was wandering the forest in search of water.', 'Finally, he saw a pot half-filled with water.', 'He tried to drink from it but his beak wasn’t long enough to reach the water inside.', 'He then saw pebbles on the ground and one by one, he put them in the pot until the water rose to the brim.', 'The crow then hastily drank from it and quenched his thirst.\"\n",
        "\n",
        "\n",
        "precision, recall, f1_score = evaluate_segmentation(reference_text, segmented_text)\n",
        "print(f\"Precision: {precision:.2f}\")\n",
        "print(f\"Recall: {recall:.2f}\")\n",
        "print(f\"F1-Score: {f1_score:.2f}\")"
      ]
    },
    {
      "cell_type": "markdown",
      "metadata": {
        "id": "jxAQGcBshOhN"
      },
      "source": [
        "visualization"
      ]
    },
    {
      "cell_type": "code",
      "execution_count": null,
      "metadata": {
        "colab": {
          "background_save": true
        },
        "id": "nUI13w9QhQSS"
      },
      "outputs": [],
      "source": [
        "import matplotlib.pyplot as plt"
      ]
    },
    {
      "cell_type": "code",
      "execution_count": null,
      "metadata": {
        "colab": {
          "background_save": true
        },
        "id": "5LJpLVYRhb1f"
      },
      "outputs": [],
      "source": [
        "segmented_text = \"After flying a long distance, a thirsty crow was wandering the forest in search of water.', 'Finally, he saw a pot half-filled with water.', 'He tried to drink from it but his beak wasn’t long enough to reach the water inside.', 'He then saw pebbles on the ground and one by one, he put them in the pot until the water rose to the brim.', 'The crow then hastily drank from it and quenched his thirst.\"\n",
        "segments = segmented_text.split()"
      ]
    },
    {
      "cell_type": "code",
      "execution_count": null,
      "metadata": {
        "colab": {
          "background_save": true,
          "base_uri": "https://localhost:8080/",
          "height": 365
        },
        "id": "Q7bhCa5Shn5d",
        "outputId": "bd8d2cb5-9f46-4163-9630-2bc84e7763f1"
      },
      "outputs": [
        {
          "data": {
            "image/png": "[encoded data removed]",
            "text/plain": [
              "<Figure size 2000x500 with 1 Axes>"
            ]
          },
          "metadata": {},
          "output_type": "display_data"
        }
      ],
      "source": [
        "plt.figure(figsize=(20, 5))\n",
        "plt.bar(range(len(segments)), [1] * len(segments), tick_label=segments)\n",
        "plt.title(\"Text Segmentation Visualization\")\n",
        "plt.xlabel(\"Segments\")\n",
        "plt.ylabel(\"Segment Length\")\n",
        "plt.xticks(rotation=45, ha=\"right\")\n",
        "plt.tight_layout()\n",
        "plt.show()"
      ]
    }
  ],
  "metadata": {
    "colab": {
      "provenance": []
    },
    "kernelspec": {
      "display_name": "Python 3",
      "name": "python3"
    },
    "language_info": {
      "name": "python"
    }
  },
  "nbformat": 4,
  "nbformat_minor": 0
}